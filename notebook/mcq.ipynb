{
 "cells": [
  {
   "cell_type": "code",
   "execution_count": 1,
   "metadata": {},
   "outputs": [],
   "source": [
    "from langchain.prompts import PromptTemplate\n",
    "from langchain_community.llms import CTransformers"
   ]
  },
  {
   "cell_type": "code",
   "execution_count": 2,
   "metadata": {},
   "outputs": [
    {
     "name": "stderr",
     "output_type": "stream",
     "text": [
      "c:\\Users\\Vincent\\anaconda3\\envs\\genAIenv\\lib\\site-packages\\tqdm\\auto.py:21: TqdmWarning: IProgress not found. Please update jupyter and ipywidgets. See https://ipywidgets.readthedocs.io/en/stable/user_install.html\n",
      "  from .autonotebook import tqdm as notebook_tqdm\n"
     ]
    }
   ],
   "source": [
    "### LLama2 model\n",
    "llm=CTransformers(model='../model/llama-2-7b-chat.ggmlv3.q5_1.bin',\n",
    "                  model_type='llama',\n",
    "                  config={'max_new_tokens':256,\n",
    "                          'temperature':0.01})"
   ]
  },
  {
   "cell_type": "code",
   "execution_count": 3,
   "metadata": {},
   "outputs": [],
   "source": [
    "## Prompt Template\n",
    "\n",
    "template=\"\"\"\n",
    "You are an expert MCQ maker.\n",
    "Create a quiz of {number} multiple choice questions for {subject} students in {tone} tone. \n",
    "Make sure the questions are not repeated.\n",
    "Make sure to format your response like RESPONSE_JSON below and use it as a guide. \\\n",
    "Ensure to make {number} MCQs\n",
    "### RESPONSE_JSON\n",
    "{response_json}\n",
    "\"\"\""
   ]
  },
  {
   "cell_type": "code",
   "execution_count": 4,
   "metadata": {},
   "outputs": [],
   "source": [
    "prompt=PromptTemplate(input_variables=[\"text\", \"number\", \"subject\", \"tone\", \"response_json\"],\n",
    "                      template=template)"
   ]
  },
  {
   "cell_type": "code",
   "execution_count": 5,
   "metadata": {},
   "outputs": [],
   "source": [
    "number = \"ten\" \n",
    "\n",
    "subject = \"Biology\"\n",
    "\n",
    "tone = \"simple\"\n",
    "\n",
    "response_json = {\n",
    "    \"1\": {\n",
    "        \"mcq\": \"multiple choice question\",\n",
    "        \"options\": {\n",
    "            \"a\": \"choice here\",\n",
    "            \"b\": \"choice here\",\n",
    "            \"c\": \"choice here\",\n",
    "            \"d\": \"choice here\",\n",
    "        },\n",
    "        \"correct\": \"correct answer\",\n",
    "    },\n",
    "    \"2\": {\n",
    "        \"mcq\": \"multiple choice question\",\n",
    "        \"options\": {\n",
    "            \"a\": \"choice here\",\n",
    "            \"b\": \"choice here\",\n",
    "            \"c\": \"choice here\",\n",
    "            \"d\": \"choice here\",\n",
    "        },\n",
    "        \"correct\": \"correct answer\",\n",
    "    },\n",
    "    \"3\": {\n",
    "        \"mcq\": \"multiple choice question\",\n",
    "        \"options\": {\n",
    "            \"a\": \"choice here\",\n",
    "            \"b\": \"choice here\",\n",
    "            \"c\": \"choice here\",\n",
    "            \"d\": \"choice here\",\n",
    "        },\n",
    "        \"correct\": \"correct answer\",\n",
    "    },\n",
    "}"
   ]
  },
  {
   "cell_type": "code",
   "execution_count": 6,
   "metadata": {},
   "outputs": [
    {
     "data": {
      "text/plain": [
       "StringPromptValue(text=\"\\nYou are an expert MCQ maker.\\nCreate a quiz of ten multiple choice questions for Biology students in simple tone. \\nMake sure the questions are not repeated.\\nMake sure to format your response like RESPONSE_JSON below and use it as a guide. Ensure to make ten MCQs\\n### RESPONSE_JSON\\n{'1': {'mcq': 'multiple choice question', 'options': {'a': 'choice here', 'b': 'choice here', 'c': 'choice here', 'd': 'choice here'}, 'correct': 'correct answer'}, '2': {'mcq': 'multiple choice question', 'options': {'a': 'choice here', 'b': 'choice here', 'c': 'choice here', 'd': 'choice here'}, 'correct': 'correct answer'}, '3': {'mcq': 'multiple choice question', 'options': {'a': 'choice here', 'b': 'choice here', 'c': 'choice here', 'd': 'choice here'}, 'correct': 'correct answer'}}\\n\")"
      ]
     },
     "execution_count": 6,
     "metadata": {},
     "output_type": "execute_result"
    }
   ],
   "source": [
    "prompt_value = prompt.invoke({\"number\": number, \"subject\": subject, \"tone\": tone, \"response_json\": response_json})\n",
    "prompt_value"
   ]
  },
  {
   "cell_type": "code",
   "execution_count": 7,
   "metadata": {},
   "outputs": [
    {
     "name": "stdout",
     "output_type": "stream",
     "text": [
      "### Question 1: What is the process of cellular respiration?\n",
      "A) Glycolysis, Krebs cycle, and electron transport chain\n",
      "B) Glycolysis, citric acid cycle, and electron transport chain\n",
      "C) Glycolysis, electron transport chain, and citric acid cycle\n",
      "D) Glycolysis, electron transport chain, and citric acid cycle\n",
      "### Question 2: What is the function of chloroplasts in plants?\n",
      "A) To synthesize amino acids and nucleotides\n",
      "B) To produce glucose from carbon dioxide and water\n",
      "C) To store genetic information\n",
      "D) To perform photosynthesis\n",
      "### Question 3: What is the role of enzymes in biological systems?\n",
      "A) To speed up chemical reactions\n",
      "B) To slow down chemical reactions\n",
      "C) To catalyze chemical reactions\n",
      "D) To control chemical reactions\n",
      "### Question 4: What is the difference between prokaryotic and eukaryotic cells?\n",
      "A) Prokaryotic cells lack a true nucleus, while eukaryotic cells have a true nucleus.\n",
      "B\n"
     ]
    }
   ],
   "source": [
    "response = llm.invoke(prompt_value)\n",
    "print(response)"
   ]
  }
 ],
 "metadata": {
  "kernelspec": {
   "display_name": "genAIenv",
   "language": "python",
   "name": "python3"
  },
  "language_info": {
   "codemirror_mode": {
    "name": "ipython",
    "version": 3
   },
   "file_extension": ".py",
   "mimetype": "text/x-python",
   "name": "python",
   "nbconvert_exporter": "python",
   "pygments_lexer": "ipython3",
   "version": "3.9.19"
  }
 },
 "nbformat": 4,
 "nbformat_minor": 2
}
